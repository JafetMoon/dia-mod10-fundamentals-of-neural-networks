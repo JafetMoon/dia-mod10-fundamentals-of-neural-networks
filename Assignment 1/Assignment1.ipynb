{
 "cells": [
  {
   "cell_type": "markdown",
   "metadata": {},
   "source": [
    "# Ejercicio 1: Tensores\n",
    "Crea los siguientes tensores utilizando PyTorch haciendo explícito el tipo de dato que contiene cada\n",
    "tensor:"
   ]
  },
  {
   "cell_type": "code",
   "execution_count": 1,
   "metadata": {},
   "outputs": [],
   "source": [
    "import torch"
   ]
  },
  {
   "cell_type": "markdown",
   "metadata": {},
   "source": [
    "1. $x^T = (1 \\;\\;\\; 3 \\;\\;\\; 7 \\;\\;\\; 8 \\;\\;\\; 11 \\;\\;\\; 345 \\;\\;\\; 1)$"
   ]
  },
  {
   "cell_type": "code",
   "execution_count": 11,
   "metadata": {},
   "outputs": [
    {
     "name": "stdout",
     "output_type": "stream",
     "text": [
      "tensor([  1,   3,   7,   8,  11, 345,   1], dtype=torch.int32)\n",
      "Tipo de dato:  torch.int32\n"
     ]
    }
   ],
   "source": [
    "x1 = torch.tensor([1, 3, 7, 8, 11, 345, 1], dtype=torch.int32)\n",
    "print(x1)\n",
    "print('Tipo de dato: ', x1.dtype)"
   ]
  },
  {
   "cell_type": "markdown",
   "metadata": {},
   "source": [
    "2. $x^T = (0.5 \\;\\;\\; 0.7 \\;\\;\\; 2 \\;\\;\\; 0.66 \\;\\;\\; 10 \\;\\;\\; 345 \\;\\;\\; 0.01)$"
   ]
  },
  {
   "cell_type": "code",
   "execution_count": 15,
   "metadata": {},
   "outputs": [
    {
     "name": "stdout",
     "output_type": "stream",
     "text": [
      "tensor([5.0000e-01, 7.0000e-01, 2.0000e+00, 6.6000e-01, 1.0000e+01, 3.4500e+02,\n",
      "        1.0000e-02])\n",
      "Tipo de dato:  torch.float32\n"
     ]
    }
   ],
   "source": [
    "x2 = torch.FloatTensor([0.5, 0.7, 2, 0.66, 10, 345, 0.01])\n",
    "print(x2)\n",
    "print('Tipo de dato: ', x2.dtype)"
   ]
  },
  {
   "cell_type": "markdown",
   "metadata": {},
   "source": [
    "3. $A =\n",
    "\\begin{pmatrix}\n",
    "10 & 0 & 15 \\\\\n",
    "2 & 9 & 12 \\\\\n",
    "\\end{pmatrix}\n",
    "$"
   ]
  },
  {
   "cell_type": "code",
   "execution_count": 6,
   "metadata": {},
   "outputs": [
    {
     "name": "stdout",
     "output_type": "stream",
     "text": [
      "tensor([[10,  0, 15],\n",
      "        [ 2,  9, 12]], dtype=torch.int32)\n",
      "Tipo de dato:  torch.int32\n"
     ]
    }
   ],
   "source": [
    "A = torch.IntTensor([[10, 0, 15],\n",
    "                     [2, 9, 12]])\n",
    "print(A)\n",
    "print('Tipo de dato: ', A.dtype)"
   ]
  },
  {
   "cell_type": "markdown",
   "metadata": {},
   "source": [
    "4. $B =\n",
    "\\begin{pmatrix}\n",
    "1 & 3 & 7 & 8 & 11 & 345 & 1\\\\\n",
    "0.5 & 0.7 & 2 & 0.66 & 10 & 345 & 0.01 \\\\\n",
    "\\end{pmatrix}\n",
    "$"
   ]
  },
  {
   "cell_type": "code",
   "execution_count": 8,
   "metadata": {},
   "outputs": [
    {
     "name": "stdout",
     "output_type": "stream",
     "text": [
      "tensor([[1.0000e+00, 3.0000e+00, 7.0000e+00, 8.0000e+00, 1.1000e+01, 3.4500e+02,\n",
      "         1.0000e+00],\n",
      "        [5.0000e-01, 7.0000e-01, 2.0000e+00, 6.6000e-01, 1.0000e+01, 3.4500e+02,\n",
      "         1.0000e-02]])\n",
      "Tipo de dato:  torch.float32\n"
     ]
    }
   ],
   "source": [
    "B = torch.FloatTensor([[1, 3, 7, 8, 11, 345, 1],\n",
    "                       [0.5, 0.7, 2, 0.66, 10, 345, 0.01]])\n",
    "print(B)\n",
    "print('Tipo de dato: ', B.dtype)"
   ]
  },
  {
   "cell_type": "markdown",
   "metadata": {},
   "source": [
    "5. $T = [[[1, 7], [ 4, 10]], [[ 2, 8], [ 5, 11]], [[ 3, 9], [ 6, 12]]]$"
   ]
  },
  {
   "cell_type": "code",
   "execution_count": 13,
   "metadata": {},
   "outputs": [
    {
     "name": "stdout",
     "output_type": "stream",
     "text": [
      "tensor([[[ 1,  7],\n",
      "         [ 4, 10]],\n",
      "\n",
      "        [[ 2,  8],\n",
      "         [ 5, 11]],\n",
      "\n",
      "        [[ 3,  9],\n",
      "         [ 6, 12]]], dtype=torch.int32)\n",
      "Tipo de dato:  torch.int32\n"
     ]
    }
   ],
   "source": [
    "T = torch.IntTensor([[[ 1, 7], \n",
    "                      [ 4, 10]],\n",
    "                     \n",
    "                     [[ 2, 8], \n",
    "                      [ 5, 11]],\n",
    "\n",
    "                     [[ 3, 9], \n",
    "                      [ 6, 12]]])\n",
    "print(T)\n",
    "print('Tipo de dato: ', T.dtype)"
   ]
  },
  {
   "cell_type": "markdown",
   "metadata": {},
   "source": [
    "6. $𝑆 = [[[4, 9], [4, 4]], [[8, 0], [1, 7]], [[2, 6], [5, 6]]]$"
   ]
  },
  {
   "cell_type": "code",
   "execution_count": 10,
   "metadata": {},
   "outputs": [
    {
     "name": "stdout",
     "output_type": "stream",
     "text": [
      "tensor([[[4, 9],\n",
      "         [4, 4]],\n",
      "\n",
      "        [[8, 0],\n",
      "         [1, 7]],\n",
      "\n",
      "        [[2, 6],\n",
      "         [5, 6]]], dtype=torch.int32)\n",
      "Tipo de dato:  torch.int32\n"
     ]
    }
   ],
   "source": [
    "S = torch.IntTensor([[[4, 9], \n",
    "                      [4, 4]],\n",
    "                     \n",
    "                     [[8, 0], \n",
    "                      [1, 7]],\n",
    "\n",
    "                     [[2, 6], \n",
    "                      [5, 6]]])\n",
    "print(S)\n",
    "print('Tipo de dato: ', S.dtype)"
   ]
  },
  {
   "cell_type": "markdown",
   "metadata": {},
   "source": [
    "Y a partir de estos realiza las siguientes operaciones:\n",
    "\n",
    "1. Obtener el tamaño de cada tensor."
   ]
  },
  {
   "cell_type": "code",
   "execution_count": 20,
   "metadata": {},
   "outputs": [
    {
     "name": "stdout",
     "output_type": "stream",
     "text": [
      "tensor([  1,   3,   7,   8,  11, 345,   1], dtype=torch.int32) \n",
      "tiene dimensiones: torch.Size([7])\n",
      "\n",
      "\n",
      "tensor([5.0000e-01, 7.0000e-01, 2.0000e+00, 6.6000e-01, 1.0000e+01, 3.4500e+02,\n",
      "        1.0000e-02]) \n",
      "tiene dimensiones: torch.Size([7])\n",
      "\n",
      "\n",
      "tensor([[10,  0, 15],\n",
      "        [ 2,  9, 12]], dtype=torch.int32) \n",
      "tiene dimensiones: torch.Size([2, 3])\n",
      "\n",
      "\n",
      "tensor([[1.0000e+00, 3.0000e+00, 7.0000e+00, 8.0000e+00, 1.1000e+01, 3.4500e+02,\n",
      "         1.0000e+00],\n",
      "        [5.0000e-01, 7.0000e-01, 2.0000e+00, 6.6000e-01, 1.0000e+01, 3.4500e+02,\n",
      "         1.0000e-02]]) \n",
      "tiene dimensiones: torch.Size([2, 7])\n",
      "\n",
      "\n",
      "tensor([[[ 1,  7],\n",
      "         [ 4, 10]],\n",
      "\n",
      "        [[ 2,  8],\n",
      "         [ 5, 11]],\n",
      "\n",
      "        [[ 3,  9],\n",
      "         [ 6, 12]]], dtype=torch.int32) \n",
      "tiene dimensiones: torch.Size([3, 2, 2])\n",
      "\n",
      "\n",
      "tensor([[[4, 9],\n",
      "         [4, 4]],\n",
      "\n",
      "        [[8, 0],\n",
      "         [1, 7]],\n",
      "\n",
      "        [[2, 6],\n",
      "         [5, 6]]], dtype=torch.int32) \n",
      "tiene dimensiones: torch.Size([3, 2, 2])\n",
      "\n",
      "\n"
     ]
    }
   ],
   "source": [
    "tensores = [x1, x2, A, B, T, S]\n",
    "for ts in tensores:\n",
    "    print('{} \\ntiene dimensiones: {}\\n\\n'.format(ts, ts.size()))"
   ]
  },
  {
   "cell_type": "markdown",
   "metadata": {},
   "source": [
    "2. Obtener las sumas x + y (x1 + x2?), T + S"
   ]
  },
  {
   "cell_type": "code",
   "execution_count": 23,
   "metadata": {},
   "outputs": [
    {
     "name": "stdout",
     "output_type": "stream",
     "text": [
      "(x + y)^T =\n",
      " tensor([  1.5000,   3.7000,   9.0000,   8.6600,  21.0000, 690.0000,   1.0100])\n",
      "T + S =\n",
      " tensor([[[ 5, 16],\n",
      "         [ 8, 14]],\n",
      "\n",
      "        [[10,  8],\n",
      "         [ 6, 18]],\n",
      "\n",
      "        [[ 5, 15],\n",
      "         [11, 18]]], dtype=torch.int32)\n"
     ]
    }
   ],
   "source": [
    "print('(x + y)^T =\\n', x1 + x2)\n",
    "print('T + S =\\n', T + S)"
   ]
  },
  {
   "cell_type": "markdown",
   "metadata": {},
   "source": [
    "3. Obtener el producto externo entre x e y."
   ]
  },
  {
   "cell_type": "code",
   "execution_count": 25,
   "metadata": {},
   "outputs": [
    {
     "name": "stdout",
     "output_type": "stream",
     "text": [
      "tensor([  1,   3,   7,   8,  11, 345,   1], dtype=torch.int32)\n",
      "  o  \n",
      "tensor([5.0000e-01, 7.0000e-01, 2.0000e+00, 6.6000e-01, 1.0000e+01, 3.4500e+02,\n",
      "        1.0000e-02])\n",
      " = \n",
      "tensor([5.0000e-01, 2.1000e+00, 1.4000e+01, 5.2800e+00, 1.1000e+02, 1.1902e+05,\n",
      "        1.0000e-02])\n"
     ]
    }
   ],
   "source": [
    "had = x1 * x2\n",
    "print('{}\\n  o  \\n{}\\n = \\n{}'.format(x1, x2, had))"
   ]
  },
  {
   "cell_type": "markdown",
   "metadata": {},
   "source": [
    "4. Obtener el producto de Haddamard entre T y S."
   ]
  },
  {
   "cell_type": "code",
   "execution_count": 26,
   "metadata": {},
   "outputs": [
    {
     "name": "stdout",
     "output_type": "stream",
     "text": [
      "tensor([[[ 1,  7],\n",
      "         [ 4, 10]],\n",
      "\n",
      "        [[ 2,  8],\n",
      "         [ 5, 11]],\n",
      "\n",
      "        [[ 3,  9],\n",
      "         [ 6, 12]]], dtype=torch.int32)\n",
      "  o  \n",
      "tensor([[[4, 9],\n",
      "         [4, 4]],\n",
      "\n",
      "        [[8, 0],\n",
      "         [1, 7]],\n",
      "\n",
      "        [[2, 6],\n",
      "         [5, 6]]], dtype=torch.int32)\n",
      " = \n",
      "tensor([[[ 4, 63],\n",
      "         [16, 40]],\n",
      "\n",
      "        [[16,  0],\n",
      "         [ 5, 77]],\n",
      "\n",
      "        [[ 6, 54],\n",
      "         [30, 72]]], dtype=torch.int32)\n"
     ]
    }
   ],
   "source": [
    "had = T * S\n",
    "print('{}\\n  o  \\n{}\\n = \\n{}'.format(T, S, had))"
   ]
  },
  {
   "cell_type": "markdown",
   "metadata": {},
   "source": [
    "5. Obtener los productos Bx y By."
   ]
  },
  {
   "cell_type": "code",
   "execution_count": 38,
   "metadata": {},
   "outputs": [
    {
     "name": "stdout",
     "output_type": "stream",
     "text": [
      "tensor([[1.0000e+00, 3.0000e+00, 7.0000e+00, 8.0000e+00, 1.1000e+01, 3.4500e+02,\n",
      "         1.0000e+00],\n",
      "        [5.0000e-01, 7.0000e-01, 2.0000e+00, 6.6000e-01, 1.0000e+01, 3.4500e+02,\n",
      "         1.0000e-02]])\n",
      "  •  \n",
      "tensor([  1.,   3.,   7.,   8.,  11., 345.,   1.])\n",
      " = \n",
      "tensor([119270.0000, 119156.8906])\n"
     ]
    }
   ],
   "source": [
    "# Transformar al mismo tipo de dato float\n",
    "x1 = x1.type(torch.FloatTensor)\n",
    "\n",
    "Bx = torch.matmul(B,x1.T)\n",
    "print('{}\\n  •  \\n{}\\n = \\n{}'.format(B,x1, Bx))"
   ]
  },
  {
   "cell_type": "code",
   "execution_count": 39,
   "metadata": {},
   "outputs": [
    {
     "name": "stdout",
     "output_type": "stream",
     "text": [
      "tensor([[1.0000e+00, 3.0000e+00, 7.0000e+00, 8.0000e+00, 1.1000e+01, 3.4500e+02,\n",
      "         1.0000e+00],\n",
      "        [5.0000e-01, 7.0000e-01, 2.0000e+00, 6.6000e-01, 1.0000e+01, 3.4500e+02,\n",
      "         1.0000e-02]])\n",
      "  •  \n",
      "tensor([5.0000e-01, 7.0000e-01, 2.0000e+00, 6.6000e-01, 1.0000e+01, 3.4500e+02,\n",
      "        1.0000e-02])\n",
      " = \n",
      "tensor([119156.8906, 119130.1719])\n"
     ]
    }
   ],
   "source": [
    "By = torch.matmul(B,x2.T)\n",
    "print('{}\\n  •  \\n{}\\n = \\n{}'.format(B,x2, By))"
   ]
  },
  {
   "cell_type": "markdown",
   "metadata": {},
   "source": [
    "6. Existen dos forma de obtener un producto entre A y B usando transposición, encuentra estas\n",
    "formas y haz una multiplicación con ambas matrices"
   ]
  },
  {
   "cell_type": "code",
   "execution_count": 44,
   "metadata": {},
   "outputs": [
    {
     "name": "stdout",
     "output_type": "stream",
     "text": [
      "Tamaño de A:  torch.Size([2, 3])\n",
      "Tamaño de B:  torch.Size([2, 7])\n"
     ]
    }
   ],
   "source": [
    "# Transformar al mismo tipo de dato float\n",
    "A = A.type(torch.FloatTensor)\n",
    "\n",
    "# Recorar tamaño de ambos vectores:\n",
    "print(\"Tamaño de A: \", A.size())\n",
    "print(\"Tamaño de B: \", B.size())"
   ]
  },
  {
   "cell_type": "code",
   "execution_count": 45,
   "metadata": {},
   "outputs": [
    {
     "name": "stdout",
     "output_type": "stream",
     "text": [
      "Forma 1 (A transpuesta): \n",
      "tensor([[10.,  2.],\n",
      "        [ 0.,  9.],\n",
      "        [15., 12.]])\n",
      "  •  \n",
      "tensor([[1.0000e+00, 3.0000e+00, 7.0000e+00, 8.0000e+00, 1.1000e+01, 3.4500e+02,\n",
      "         1.0000e+00],\n",
      "        [5.0000e-01, 7.0000e-01, 2.0000e+00, 6.6000e-01, 1.0000e+01, 3.4500e+02,\n",
      "         1.0000e-02]])\n",
      " = \n",
      "tensor([[1.1000e+01, 3.1400e+01, 7.4000e+01, 8.1320e+01, 1.3000e+02, 4.1400e+03,\n",
      "         1.0020e+01],\n",
      "        [4.5000e+00, 6.3000e+00, 1.8000e+01, 5.9400e+00, 9.0000e+01, 3.1050e+03,\n",
      "         9.0000e-02],\n",
      "        [2.1000e+01, 5.3400e+01, 1.2900e+02, 1.2792e+02, 2.8500e+02, 9.3150e+03,\n",
      "         1.5120e+01]])\n"
     ]
    }
   ],
   "source": [
    "# La multiplicación entre matrices está definida para\n",
    "# matrices de dimension mxd por matrices de dxn\n",
    "# Por ello, hay que llevar los tensores a esta forma usando transposición.\n",
    "\n",
    "print(\"Forma 1 (A transpuesta): \")\n",
    "AtB = torch.matmul(A.T, B)\n",
    "print('{}\\n  •  \\n{}\\n = \\n{}'.format(A.T, B, AtB))"
   ]
  },
  {
   "cell_type": "code",
   "execution_count": 47,
   "metadata": {},
   "outputs": [
    {
     "name": "stdout",
     "output_type": "stream",
     "text": [
      "Forma 2 (B transpuesta): \n",
      "tensor([[1.0000e+00, 5.0000e-01],\n",
      "        [3.0000e+00, 7.0000e-01],\n",
      "        [7.0000e+00, 2.0000e+00],\n",
      "        [8.0000e+00, 6.6000e-01],\n",
      "        [1.1000e+01, 1.0000e+01],\n",
      "        [3.4500e+02, 3.4500e+02],\n",
      "        [1.0000e+00, 1.0000e-02]])\n",
      "  •  \n",
      "tensor([[10.,  0., 15.],\n",
      "        [ 2.,  9., 12.]])\n",
      " = \n",
      "tensor([[1.1000e+01, 4.5000e+00, 2.1000e+01],\n",
      "        [3.1400e+01, 6.3000e+00, 5.3400e+01],\n",
      "        [7.4000e+01, 1.8000e+01, 1.2900e+02],\n",
      "        [8.1320e+01, 5.9400e+00, 1.2792e+02],\n",
      "        [1.3000e+02, 9.0000e+01, 2.8500e+02],\n",
      "        [4.1400e+03, 3.1050e+03, 9.3150e+03],\n",
      "        [1.0020e+01, 9.0000e-02, 1.5120e+01]])\n"
     ]
    }
   ],
   "source": [
    "print(\"Forma 2 (B transpuesta): \")\n",
    "BtA = torch.matmul(B.T, A)\n",
    "print('{}\\n  •  \\n{}\\n = \\n{}'.format(B.T, A, BtA))"
   ]
  },
  {
   "cell_type": "markdown",
   "metadata": {},
   "source": [
    "# Ejercicio 2: Gráficas y manejo de tensores con PyTorch\n",
    "Utilizando tensores en PyTorch con requerimiento de gradiente, realiza las gráficas computacionales\n",
    "en PyTorch de las siguientes funciones sig"
   ]
  },
  {
   "cell_type": "markdown",
   "metadata": {},
   "source": [
    "1. Define la función $$f_1 (x) = \\text{exp}\\{  2x_1 + 2x_2 + 3x_3 + 0.5\\}$$\n",
    "\n",
    "utilizando 3 nodos (requiere tres variables)."
   ]
  },
  {
   "cell_type": "code",
   "execution_count": 95,
   "metadata": {},
   "outputs": [
    {
     "name": "stdout",
     "output_type": "stream",
     "text": [
      "tensor([1.5998e+09, 1.5998e+09, 2.3997e+09])\n"
     ]
    }
   ],
   "source": [
    "def f1(x): \n",
    "    # Define el paso forward\n",
    "    node_one = torch.matmul(x, torch.tensor([2.,2.,3.]))\n",
    "    node_two = node_one + 0.5\n",
    "    node_three = torch.exp(node_two) \n",
    "    \n",
    "    return node_three\n",
    "\n",
    "    \n",
    "# Generar vector\n",
    "x = torch.tensor([1., 3., 4.], requires_grad=True)\n",
    "# Computa forward\n",
    "output = f1(x)\n",
    "# Computa el backward y gradiente\n",
    "output.backward()\n",
    "print(x.grad)"
   ]
  },
  {
   "cell_type": "markdown",
   "metadata": {},
   "source": [
    "2. Define la función $$f_2 (x) = (  x_1^2 - 2x_2^2 + 4x_3^2 )^2$$\n",
    "\n",
    "utilizando 3 nodos (requiere tres variables)."
   ]
  },
  {
   "cell_type": "code",
   "execution_count": 96,
   "metadata": {},
   "outputs": [
    {
     "name": "stdout",
     "output_type": "stream",
     "text": [
      "tensor([  188., -1128.,  3008.])\n"
     ]
    }
   ],
   "source": [
    "def f2(x): \n",
    "    # Define el paso forward\n",
    "    node_one = x ** 2\n",
    "    node_two = torch.matmul(node_one, torch.tensor([1., -2., 4.]))\n",
    "    node_three = node_two ** 2\n",
    "    \n",
    "    return node_three\n",
    "\n",
    "    \n",
    "# Generar vector\n",
    "x = torch.tensor([1., 3., 4.], requires_grad=True)\n",
    "# Computa forward\n",
    "output = f2(x)\n",
    "# Computa el backward y gradiente\n",
    "output.backward()\n",
    "print(x.grad)"
   ]
  },
  {
   "cell_type": "markdown",
   "metadata": {},
   "source": [
    "3. Define la función $$f_3 (x) = \\frac{\\cos^2(x_1^2) + \\cos^2 (x_2^2) + \\cos^2 (x_3^2)}{||x||}$$\n",
    "\n",
    "utilizando 5 nodos (requiere tres variables)."
   ]
  },
  {
   "cell_type": "code",
   "execution_count": 104,
   "metadata": {},
   "outputs": [
    {
     "name": "stdout",
     "output_type": "stream",
     "text": [
      "tensor([-0.3720,  0.8375, -0.9267])\n"
     ]
    }
   ],
   "source": [
    "def f3(x): \n",
    "    # Define el paso forward\n",
    "    node_one = x ** 2\n",
    "    node_two = torch.cos(node_one)\n",
    "    node_three = node_two ** 2\n",
    "    node_four = torch.linalg.norm(x)\n",
    "    node_five = torch.sum(node_three) / node_four\n",
    "    \n",
    "    return node_five\n",
    "\n",
    "    \n",
    "# Generar vector\n",
    "x = torch.tensor([1., 3., 4.], requires_grad=True)\n",
    "# Computa forward\n",
    "output = f3(x)\n",
    "# Computa el backward y gradiente\n",
    "output.backward()\n",
    "print(x.grad)"
   ]
  },
  {
   "cell_type": "markdown",
   "metadata": {},
   "source": [
    "# Ejercicio 3: Gráfica computacionales\n",
    "Define los nodos de una gráfica computacional para una red neuronal generando los nodos como\n",
    "clases de python y utilizando únicamente numpy (no usar PyTorch, ni paqueterías especiales).\n",
    "Genera los nodos para las funciones siguientes:"
   ]
  },
  {
   "cell_type": "code",
   "execution_count": 106,
   "metadata": {},
   "outputs": [],
   "source": [
    "import random\n",
    "import numpy as np"
   ]
  },
  {
   "cell_type": "code",
   "execution_count": 157,
   "metadata": {},
   "outputs": [],
   "source": [
    "class Node:\n",
    "    # Nodo de entrada | ya que x es un vector según las indicaciones\n",
    "    # No es necesario considerar valores numéricos\n",
    "    def __init__(self, value):\n",
    "        self.grad = None\n",
    "        self.value = np.array(value)\n",
    "\n",
    "    def __str__(self):\n",
    "        return str(self.value)"
   ]
  },
  {
   "cell_type": "markdown",
   "metadata": {},
   "source": [
    "1. Linear: $\\omega x + b$ donde $\\omega$ y $b$ se inician de forma aleatoria. Debe tomar como argumentos el\n",
    "tamaño de entrada del vector y el de salida."
   ]
  },
  {
   "cell_type": "code",
   "execution_count": 163,
   "metadata": {},
   "outputs": [],
   "source": [
    "class Linear():\n",
    "    def __init__(self, input_size, output_size):\n",
    "        self.grad = None\n",
    "        #Inicializa w y b\n",
    "        self.w = np.random.random((output_size, input_size))\n",
    "        self.b = np.random.random(output_size)\n",
    "\n",
    "    def __call__(self, x):\n",
    "        # Convertir x a nodo\n",
    "        if not isinstance(x, Node):\n",
    "            x = Node(x)\n",
    "\n",
    "        # Realiza la función de wx+b\n",
    "        self.value = np.dot(self.w, x.value) + self.b\n",
    "        self.parent = x\n",
    "        return self\n",
    "\n",
    "    def __str__(self):\n",
    "        return str(self.value)"
   ]
  },
  {
   "cell_type": "markdown",
   "metadata": {},
   "source": [
    "2. Tanh: Función de activación de tangente hiperbólica definida como $\\tanh(x) = \\frac{e^x - e^{-x}}{e^x + e^{-x}}$."
   ]
  },
  {
   "cell_type": "code",
   "execution_count": 166,
   "metadata": {},
   "outputs": [],
   "source": [
    "class Tanh():\n",
    "    def __init__(self):\n",
    "        self.grad = None\n",
    "\n",
    "    def __call__(self, x):\n",
    "        # Convertir x a nodo\n",
    "        if not isinstance(x, Node):\n",
    "            x = Node(x)\n",
    "        # Realiza la función de tanh\n",
    "        print(type(x.value))\n",
    "        self.value = (np.exp(x.value) - np.exp(-x.value)) / (np.exp(x.value) + np.exp(-x.value))\n",
    "        self.parent = x\n",
    "        return self\n",
    "\n",
    "    def __str__(self):\n",
    "        return str(self.value)"
   ]
  },
  {
   "cell_type": "markdown",
   "metadata": {},
   "source": [
    "3. Softmax: Función de activación definida como $\\text{softmax} (x_i) = \\frac{e_i^x}{\\sum_j e^{x_j}}$ donde cada $x_i$ es una entrada del vector."
   ]
  },
  {
   "cell_type": "code",
   "execution_count": 160,
   "metadata": {},
   "outputs": [],
   "source": [
    "class Softmax():\n",
    "    def __init__(self):\n",
    "        self.grad = None\n",
    "\n",
    "    def __call__(self, x):\n",
    "        # Convertir x a nodo\n",
    "        if not isinstance(x, Node):\n",
    "            x = Node(x)\n",
    "            \n",
    "        # Realiza la función de Softmax\n",
    "        self.value = np.exp(x.value) / np.sum(x.value)\n",
    "        self.parent = x\n",
    "        return self\n",
    "\n",
    "    def __str__(self):\n",
    "        return str(self.value)"
   ]
  },
  {
   "cell_type": "markdown",
   "metadata": {},
   "source": [
    "4. CrossEntropy: Función que toma dos argumentos $x$ (vector) y $y$ (un entero o clase) y que se\n",
    "estima de la forma $$R(x) = - \\sum_j \\delta_{j,y} \\ln x_j$$ donde $\\delta_{j,y} = 1$ si $j=y$ y $0$ en otro caso."
   ]
  },
  {
   "cell_type": "code",
   "execution_count": 161,
   "metadata": {},
   "outputs": [],
   "source": [
    "class CrossEntropy():\n",
    "    def __init__(self):\n",
    "        self.grad = None\n",
    "\n",
    "    def __call__(self, x, y):\n",
    "        # Convertir x a nodo\n",
    "        if not isinstance(x, Node):\n",
    "            x = Node(x)\n",
    "             \n",
    "        # Se asegura que los valores están dentro del rango de logaritmo\n",
    "        epsilon = 1e-15\n",
    "        x_clip = np.clip(x.value, epsilon)\n",
    "\n",
    "        # Ajusta el tipo de dato a array\n",
    "        if isinstance(y, (list, np.ndarray)):\n",
    "            # Asumimos que se refiere a clase como un conjunto de indices agrupados\n",
    "            y = np.array(y)\n",
    "        elif isinstance(y, int):\n",
    "            y = np.array([y])\n",
    "\n",
    "        # Realiza la función de R\n",
    "        self.value = - np.sum( np.log(x_clip[y]) )\n",
    "        self.parentA = x\n",
    "        self.parentB = y\n",
    "        return self\n",
    "\n",
    "    def __str__(self):\n",
    "        return str(self.value)"
   ]
  },
  {
   "cell_type": "code",
   "execution_count": null,
   "metadata": {},
   "outputs": [],
   "source": [
    "l1 = Linear(2,3)\n",
    "act1 = Tanh()\n",
    "l2 = Linear(3,2)\n",
    "out = Softmax()\n",
    "criterion = CrossEntropy()\n",
    "x = np.array([1,2])\n",
    "pred = out(l2(act1(l1(x))))\n",
    "loss = criterion(pred, 1)\n",
    "print(pred)\n",
    "print(loss)"
   ]
  },
  {
   "cell_type": "code",
   "execution_count": null,
   "metadata": {},
   "outputs": [],
   "source": []
  }
 ],
 "metadata": {
  "kernelspec": {
   "display_name": "Python 3",
   "language": "python",
   "name": "python3"
  },
  "language_info": {
   "codemirror_mode": {
    "name": "ipython",
    "version": 3
   },
   "file_extension": ".py",
   "mimetype": "text/x-python",
   "name": "python",
   "nbconvert_exporter": "python",
   "pygments_lexer": "ipython3",
   "version": "3.11.5"
  }
 },
 "nbformat": 4,
 "nbformat_minor": 2
}
