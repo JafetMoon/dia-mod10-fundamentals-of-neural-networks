{
 "cells": [
  {
   "cell_type": "markdown",
   "metadata": {},
   "source": [
    "# Ejercicios sobre diferenciación automática"
   ]
  },
  {
   "cell_type": "code",
   "execution_count": 1,
   "metadata": {},
   "outputs": [],
   "source": [
    "import numpy as np"
   ]
  },
  {
   "cell_type": "markdown",
   "metadata": {},
   "source": [
    "## 1. Modo Forward\n",
    "\n",
    "Realiza la gráfica computacional para la función $f:\\mathbb{R}^2 \\to \\mathbb{R}^2$ definida por:\n",
    "\n",
    "$$f(x) =\n",
    "\\begin{pmatrix}\n",
    "\\ln(x_1^2) + 2x_2 \\\\\n",
    "\\cos(\\ln(x_1^2) + x_2^2) \\\\\n",
    "\\end{pmatrix}\n",
    "$$\n",
    "\n",
    "Y obtén el gradiente de la función utilizando el modo forward. Ejemplifica con la entrada $x = (2, 5)$."
   ]
  },
  {
   "cell_type": "markdown",
   "metadata": {},
   "source": [
    "#### Definición de clases"
   ]
  },
  {
   "cell_type": "code",
   "execution_count": 2,
   "metadata": {},
   "outputs": [],
   "source": [
    "class Node:\n",
    "    def __init__(self, value, grad=1):\n",
    "        self.value = value\n",
    "        self.grad = grad\n",
    "\n",
    "    def __str__(self):\n",
    "        return str(self.value)\n",
    "        \n",
    "    def forward(self):\n",
    "        self.grad = self.grad"
   ]
  },
  {
   "cell_type": "code",
   "execution_count": 3,
   "metadata": {},
   "outputs": [],
   "source": [
    "class Ln:\n",
    "    def __init__(self):\n",
    "        self.grad = None\n",
    "\n",
    "    def __call__(self, x):\n",
    "        # Realiza la función\n",
    "        self.value = np.log(x.value)\n",
    "        self.parent = x\n",
    "        return self\n",
    "\n",
    "    def __str__(self):\n",
    "        return str(self.value)\n",
    "\n",
    "    def forward(self):\n",
    "        self.parent.forward()\n",
    "        node_grad = 1 / self.parent.value  # Derivada de ln(x)\n",
    "        self.grad = node_grad * self.parent.grad  # Regla de la cadena\n",
    "        return self.grad\n"
   ]
  },
  {
   "cell_type": "code",
   "execution_count": 4,
   "metadata": {},
   "outputs": [],
   "source": [
    "class Cos:\n",
    "    def __init__(self, n=2):\n",
    "        self.n = n\n",
    "        self.grad = None\n",
    "\n",
    "    def __call__(self, x):\n",
    "        self.value = np.cos(self.n*x.value)\n",
    "        self.parent = x\n",
    "        \n",
    "        return self\n",
    "\n",
    "    def __str__(self):\n",
    "        return str(self.value)\n",
    "\n",
    "    def forward(self):\n",
    "        self.parent.forward()\n",
    "        node_grad = -self.n*np.sin(self.n*self.parent.value)  # Derivada de cos(nx)\n",
    "        self.grad = node_grad*self.parent.grad # Regla de la cadena\n",
    "        \n",
    "        return self.grad"
   ]
  },
  {
   "cell_type": "code",
   "execution_count": 5,
   "metadata": {},
   "outputs": [],
   "source": [
    "class Pow:\n",
    "    def __init__(self, p=2):\n",
    "        self.pow = p\n",
    "        self.grad = None\n",
    "\n",
    "    def __call__(self, x):\n",
    "        self.value = x.value**self.pow\n",
    "        self.parent = x\n",
    "        return self\n",
    "\n",
    "    def __str__(self):\n",
    "        return str(self.value)\n",
    "\n",
    "    def forward(self):\n",
    "        self.parent.forward()\n",
    "        node_grad = self.pow*(self.parent.value**(self.pow-1)) # Derivada de x^n\n",
    "        self.grad = node_grad*self.parent.grad # Regla de la cadena\n",
    "        \n",
    "        return self.grad"
   ]
  },
  {
   "cell_type": "code",
   "execution_count": 6,
   "metadata": {},
   "outputs": [],
   "source": [
    "class Sum:\n",
    "    def __init__(self):\n",
    "        self.grad = None\n",
    "\n",
    "    def __call__(self, x, y):\n",
    "        self.value = x.value + y.value\n",
    "        self.parentA = x\n",
    "        self.parentB = y\n",
    "        \n",
    "        return self\n",
    "\n",
    "    def __str__(self):\n",
    "        return str(self.value)\n",
    "\n",
    "    def forward(self):\n",
    "        self.parentA.forward()\n",
    "        self.parentB.forward()\n",
    "        self.grad = self.parentA.grad + self.parentB.grad # Derivada 1, y regla de la cadena\n",
    "        \n",
    "        return self.grad"
   ]
  },
  {
   "cell_type": "code",
   "execution_count": 7,
   "metadata": {},
   "outputs": [],
   "source": [
    "class ScalarMult:\n",
    "    def __init__(self, c):\n",
    "        self.c = c\n",
    "        self.grad = None\n",
    "\n",
    "    def __call__(self, x):\n",
    "        self.value = self.c * x.value\n",
    "        self.parent = x\n",
    "        return self\n",
    "\n",
    "    def __str__(self):\n",
    "        return str(self.value)\n",
    "\n",
    "    def forward(self):\n",
    "        self.parent.forward()\n",
    "        node_grad = self.c  # Derivada de c * x\n",
    "        self.grad = node_grad * self.parent.grad  # Regla de la cadena\n",
    "        return self.grad\n"
   ]
  },
  {
   "cell_type": "code",
   "execution_count": 8,
   "metadata": {},
   "outputs": [],
   "source": [
    "class FunctionR2R2:\n",
    "    def __init__(self):\n",
    "        self.grad = None\n",
    "\n",
    "    def __call__(self, node1, node2):\n",
    "        self.node1 = node1\n",
    "        self.node2 = node2\n",
    "        self.value = (node1.value, node2.value)\n",
    "        return self\n",
    "    \n",
    "    def __str__(self):\n",
    "        return str(self.value)\n",
    "    \n",
    "    def forward(self):\n",
    "        self.node1.forward()\n",
    "        self.node2.forward()\n",
    "        self.grad = (self.node1.grad, self.node2.grad)\n",
    "        return self.grad\n"
   ]
  },
  {
   "cell_type": "markdown",
   "metadata": {},
   "source": [
    "#### Implementación"
   ]
  },
  {
   "cell_type": "code",
   "execution_count": 9,
   "metadata": {},
   "outputs": [
    {
     "name": "stdout",
     "output_type": "stream",
     "text": [
      "f(2, 5) =  (11.38629436111989, 0.31194851105961413)\n"
     ]
    }
   ],
   "source": [
    "# Parámetros iniciales\n",
    "val_x, val_y = 2,5\n",
    "grad_x, grad_y = 1,1\n",
    "\n",
    "#Nodos de entrada x,y\n",
    "x = Node(val_x, grad=grad_x)\n",
    "y = Node(val_y, grad=grad_y)\n",
    "\n",
    "# Potencia nodo 1\n",
    "pow1 = Pow(p=2)\n",
    "# Potencia nodo 2\n",
    "pow2 = Pow(p=2)\n",
    "# Nodo de operación coseno\n",
    "cos = Cos(n=1)\n",
    "# Logaritmo Natural nodo 1\n",
    "mult2 = ScalarMult(2)\n",
    "# Logaritmo Natural nodo 1\n",
    "logn = Ln()\n",
    "# Nodo de suma salida 1\n",
    "sum1 = Sum()\n",
    "# Nodo de suma salida 2\n",
    "sum2 = Sum()\n",
    "# Nodo de función a R^2\n",
    "r2out = FunctionR2R2()\n",
    "\n",
    "#Construcción de la gráfica dinámica\n",
    "result = r2out( sum1(logn(pow1(x)), mult2(y)), cos( sum2(logn(pow1(x)), pow2(y)) ))\n",
    "print(f'f{(val_x,val_y)} = ', result)"
   ]
  },
  {
   "cell_type": "code",
   "execution_count": 10,
   "metadata": {},
   "outputs": [
    {
     "name": "stdout",
     "output_type": "stream",
     "text": [
      "Gradiente:  (3.0, -10.45108909636553)\n"
     ]
    }
   ],
   "source": [
    "jacob_t_vect = result.forward()\n",
    "# Test \n",
    "assert jacob_t_vect[0] == 2/val_x * (grad_x) + 2*(grad_y)\n",
    "assert jacob_t_vect[1] == -2*np.sin(np.log(val_x**2)+val_y**2)/val_x * (grad_x) - 2*val_y*np.sin(np.log(val_x**2)+val_y**2)*(grad_y)\n",
    "\n",
    "print('Gradiente: ', jacob_t_vect)\n"
   ]
  },
  {
   "cell_type": "markdown",
   "metadata": {},
   "source": [
    "## 2. Modo Reverse\n",
    "\n",
    "A partir de la gráfica computacional dada con los nodos Linear, Softmax y CrossEntropy, crea la\n",
    "gráfica computacional para el problema de la regresión logística:\n",
    "\n",
    "$$f(x) = \\sigma(\\omega x + b)$$\n",
    "\n",
    "Donde $\\sigma$ es la función softmax y $\\omega$ y $b$ los parámetros a aprender. Cálcula el gradiente utilizando\n",
    "la función objetivo de entropía cruzada y actualiza los pesos por medio del método de ascenso por gradiente:\n",
    "\n",
    "$$\\theta \\leftarrow \\theta - \\eta \\nabla \\partial(\\theta)$$\n",
    "\n",
    "donde $\\eta$ es la taza de aprendizaje.\n",
    "\n",
    "Utiliza el dataset de Iris de sklearn, y recuerda realizar la separación de 70-30 en los datos de\n",
    "entrenamiento y evaluación. Asimismo, evalúa utilizando classification_report."
   ]
  },
  {
   "cell_type": "markdown",
   "metadata": {},
   "source": [
    "- Se recuerdan las clases del trabajo 2:"
   ]
  },
  {
   "cell_type": "code",
   "execution_count": 11,
   "metadata": {},
   "outputs": [],
   "source": [
    "from sklearn.model_selection import train_test_split\n",
    "from sklearn.metrics import classification_report\n",
    "from sklearn.datasets import load_iris\n",
    "from tqdm import tqdm\n",
    "import matplotlib.pyplot as plt\n",
    "import random\n"
   ]
  },
  {
   "cell_type": "markdown",
   "metadata": {},
   "source": [
    "- Linear"
   ]
  },
  {
   "cell_type": "code",
   "execution_count": 12,
   "metadata": {},
   "outputs": [],
   "source": [
    "class Linear:\n",
    "    '''\n",
    "    Linear wx+b donde w y b se inician de forma aleatoria. \n",
    "    Debe tomar como argumentos el tamaño de entrada del vector y el de salida.\n",
    "    '''\n",
    "    def __init__(self, input_size, output_size):\n",
    "        self.w = np.random.randn(output_size, input_size)\n",
    "        self.b = np.random.randn(output_size)\n",
    "        self.grad_w = np.ones_like(self.w)\n",
    "        self.grad_b = np.zeros_like(self.b)\n",
    "        self.value = None\n",
    "\n",
    "    def __call__(self, x):\n",
    "        x = set_node(x)\n",
    "        self.value = np.dot(self.w, x.value) + self.b\n",
    "        self.parent = x\n",
    "        return self\n",
    "\n",
    "    def backward(self, grad):\n",
    "        self.grad_w = np.outer(grad, self.parent.value)\n",
    "        self.grad_b = grad\n",
    "        self.grad = np.dot(self.w.T, grad)\n",
    "        self.parent.backward(self.grad)"
   ]
  },
  {
   "cell_type": "markdown",
   "metadata": {},
   "source": [
    "- Softmax"
   ]
  },
  {
   "cell_type": "markdown",
   "metadata": {},
   "source": [
    "Para definir el `self.grad` en este caso, se obtuvo por casos, ya que \n",
    "\n",
    "$$ \\sigma(x_i) = \\frac{e^{x}_i}{\\sum_{j} e^{x}_j}$$\n",
    "\n",
    "Caso 1: $i=j$\n",
    "\n",
    "$$\\frac{\\partial \\sigma(x_i)}{\\partial x_i} = \\sigma(x_i) (1 - \\sigma(x_i))$$\n",
    "\n",
    "Caso 1: $i\\neq j$\n",
    "\n",
    "$$\\frac{\\partial \\sigma(z_i)}{\\partial z_k} = -\\sigma(z_i) \\sigma(z_k)$$\n",
    "\n",
    "Por lo que cuando los valores cuando $i=j$ se pueden representar como la diagonal de una matriz (`np.diagflat(s)`); mientras que los demás son los términos cruzados (`np.dot(s, s.T)`)."
   ]
  },
  {
   "cell_type": "code",
   "execution_count": 13,
   "metadata": {},
   "outputs": [],
   "source": [
    "class Softmax:\n",
    "    '''\n",
    "    Función de activación.\n",
    "    '''\n",
    "    def __init__(self):\n",
    "        self.value = None\n",
    "        self.grad = None\n",
    "\n",
    "    def __call__(self, x):\n",
    "        x = set_node(x)\n",
    "        e_x = np.exp(x.value - np.max(x.value))\n",
    "        self.value = e_x / e_x.sum()\n",
    "        self.parent = x\n",
    "        return self\n",
    "\n",
    "    def backward(self, grad):\n",
    "        s = self.value.reshape(-1, 1)\n",
    "        jacobian_m = np.diagflat(s) - np.dot(s, s.T)\n",
    "        self.grad = np.dot(jacobian_m, grad)\n",
    "        self.parent.backward(self.grad)"
   ]
  },
  {
   "cell_type": "markdown",
   "metadata": {},
   "source": [
    "- CrossEntropy"
   ]
  },
  {
   "cell_type": "markdown",
   "metadata": {},
   "source": [
    "En este caso\n",
    "\n",
    "$$R(x) = - \\sum_j \\delta_{j,y} \\ln x_j,$$\n",
    "\n",
    "pero se omite la suma ya que sólo se considera el término no nulo que, para el caso del conjunto Iris, proviene de una única etiqueta (índice)."
   ]
  },
  {
   "cell_type": "code",
   "execution_count": 14,
   "metadata": {},
   "outputs": [],
   "source": [
    "class CrossEntropy:\n",
    "    def __init__(self):\n",
    "        self.value = None\n",
    "        self.grad = None\n",
    "\n",
    "    def __call__(self, x, y):\n",
    "        '''\n",
    "        Suponiendo sólo un índice (etiqueta) en y,\n",
    "        sólo habrá un valor no nulo de la función\n",
    "        de CrossEntropy y se omite la suma.\n",
    "        '''\n",
    "        x = set_node(x)\n",
    "        epsilon = 1e-15\n",
    "        x_clip = np.clip(x.value, epsilon, None)\n",
    "        self.value = -np.log(x_clip[y])\n",
    "        self.parentA = x\n",
    "        self.parentB = y\n",
    "        return self\n",
    "\n",
    "    def backward(self):\n",
    "        grad = np.zeros_like(self.parentA.value)\n",
    "        grad[self.parentB] = -1 / self.parentA.value[self.parentB]\n",
    "        self.grad = grad\n",
    "        self.parentA.backward(self.grad)"
   ]
  },
  {
   "cell_type": "markdown",
   "metadata": {},
   "source": [
    "- Nodo"
   ]
  },
  {
   "cell_type": "code",
   "execution_count": 15,
   "metadata": {},
   "outputs": [],
   "source": [
    "def set_node(x):\n",
    "    '''\n",
    "    Crea un nodo si x no es de ningún tipo de nodo en la red.\n",
    "    Esto es necesario para instanciar los x_i obtenidos de\n",
    "    la partición X_train, pues son de tipo array.\n",
    "    '''\n",
    "    if not isinstance(x, (Node, Linear, Softmax, CrossEntropy)):\n",
    "        x = Node(x)\n",
    "    return x\n",
    "\n",
    "class Node:\n",
    "    def __init__(self, value):\n",
    "        self.value = value\n",
    "        self.grad = None\n",
    "\n",
    "    def __str__(self):\n",
    "        return str(self.value)\n",
    "        \n",
    "    def backward(self, grad=1):\n",
    "        self.grad = grad"
   ]
  },
  {
   "cell_type": "markdown",
   "metadata": {},
   "source": [
    "- implementación"
   ]
  },
  {
   "cell_type": "code",
   "execution_count": 16,
   "metadata": {},
   "outputs": [
    {
     "name": "stderr",
     "output_type": "stream",
     "text": [
      "100%|██████████| 100/100 [00:00<00:00, 251.43it/s]\n"
     ]
    },
    {
     "data": {
      "image/png": "[encoded data removed]",
      "text/plain": [
       "<Figure size 640x480 with 1 Axes>"
      ]
     },
     "metadata": {},
     "output_type": "display_data"
    },
    {
     "name": "stdout",
     "output_type": "stream",
     "text": [
      "              precision    recall  f1-score   support\n",
      "\n",
      "           0       1.00      1.00      1.00        19\n",
      "           1       0.92      1.00      0.96        12\n",
      "           2       1.00      0.93      0.96        14\n",
      "\n",
      "    accuracy                           0.98        45\n",
      "   macro avg       0.97      0.98      0.97        45\n",
      "weighted avg       0.98      0.98      0.98        45\n",
      "\n"
     ]
    }
   ],
   "source": [
    "# Por reproducibilidad\n",
    "np.random.seed(42)\n",
    "random.seed(42)\n",
    "\n",
    "# Cargar los datos de Iris\n",
    "data = load_iris()\n",
    "x = data.data\n",
    "y = data.target\n",
    "\n",
    "dim = len(data.feature_names)\n",
    "classes = len(data.target_names)\n",
    "\n",
    "# Dividir los datos en entrenamiento y prueba\n",
    "x_train, x_test, y_train, y_test = train_test_split(x, y, test_size=0.3)\n",
    "\n",
    "# Inicializar las capas del modelo\n",
    "lin1 = Linear(dim, classes)\n",
    "soft = Softmax()\n",
    "risk = CrossEntropy()\n",
    "\n",
    "epochs = 100\n",
    "lr = 0.1\n",
    "total_loss = []\n",
    "\n",
    "# Entrenamiento del modelo\n",
    "for t in tqdm(range(epochs)):\n",
    "    epoch_loss = 0\n",
    "    for x_i, y_i in zip(x_train, y_train):\n",
    "        pred = soft(lin1(x_i))\n",
    "        loss = risk(pred, y_i)\n",
    "        \n",
    "        loss.backward()\n",
    "        lin1.w -= lr * lin1.grad_w\n",
    "        lin1.b -= lr * lin1.grad_b\n",
    "        epoch_loss += loss.value\n",
    "    total_loss.append(epoch_loss)\n",
    "\n",
    "# Graficar la pérdida total por época\n",
    "plt.plot(total_loss)\n",
    "plt.show()\n",
    "\n",
    "# Evaluar el modelo en el conjunto de prueba\n",
    "test_pred = [soft(lin1(x_i)).value.argmax() for x_i in x_test]\n",
    "print(classification_report(test_pred, y_test))\n"
   ]
  }
 ],
 "metadata": {
  "kernelspec": {
   "display_name": "Python 3",
   "language": "python",
   "name": "python3"
  },
  "language_info": {
   "codemirror_mode": {
    "name": "ipython",
    "version": 3
   },
   "file_extension": ".py",
   "mimetype": "text/x-python",
   "name": "python",
   "nbconvert_exporter": "python",
   "pygments_lexer": "ipython3",
   "version": "3.11.5"
  }
 },
 "nbformat": 4,
 "nbformat_minor": 2
}
